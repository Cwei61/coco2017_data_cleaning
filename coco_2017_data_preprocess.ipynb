{
 "cells": [
  {
   "cell_type": "code",
   "execution_count": 1,
   "id": "a8c899b2",
   "metadata": {},
   "outputs": [],
   "source": [
    "import os\n",
    "import copy"
   ]
  },
  {
   "cell_type": "code",
   "execution_count": 2,
   "id": "0ad5f913",
   "metadata": {
    "scrolled": true
   },
   "outputs": [
    {
     "name": "stdout",
     "output_type": "stream",
     "text": [
      "4952\n",
      "117266\n"
     ]
    }
   ],
   "source": [
    "#change according to your dataset's file path\n",
    "labels_val2017 = './labels/val2017/'\n",
    "labels_train2017 = './labels/train2017/'\n",
    "images_val2017 = './images/val2017/'\n",
    "images_train2017 = './images/train2017/'\n",
    "\n",
    "#use deepcopy to avoid error when processing\n",
    "path_labels_val2017 = copy.deepcopy(os.listdir(labels_val2017))\n",
    "path_images_val2017 = copy.deepcopy(os.listdir(images_val2017))\n",
    "path_labels_train2017 = copy.deepcopy(os.listdir(labels_train2017))\n",
    "path_images_train2017 = copy.deepcopy(os.listdir(images_train2017))\n",
    "\n",
    "print(len(path_labels_val2017))\n",
    "print(len(path_labels_train2017))"
   ]
  },
  {
   "cell_type": "code",
   "execution_count": null,
   "id": "db2db535",
   "metadata": {},
   "outputs": [],
   "source": [
    "def content_check(folder_path,file_path,images_path):\n",
    "    target_file_path = folder_path + file_path\n",
    "    target_file = open(target_file_path, 'r')\n",
    "    content_in_file = target_file.read()\n",
    "    element_of_file = content_in_file.split()\n",
    "    object_number = len(element_of_file) / 5\n",
    "    \n",
    "    #if you want to choose another class , them change the \"target_class\" content.\n",
    "    target_class = 0\n",
    "    \n",
    "    execute_delete_file_point = True\n",
    "    all_zero_file = 0\n",
    "    for num in range(0,int(object_number)):\n",
    "        if int(element_of_file[num * 5]) == 0:\n",
    "            all_zero_file = all_zero_file +1\n",
    "            execute_delete_file_point = False\n",
    "    if all_zero_file != object_number :\n",
    "        if execute_delete_file_point == True:\n",
    "            target_file.close()\n",
    "            os.remove(target_file_path)\n",
    "            os.remove(images_path +  file_path.split('.')[0] + '.jpg')\n",
    "        else:\n",
    "            target_element = []\n",
    "            for num in range(0,int(object_number)):\n",
    "                if int(element_of_file[num * 5]) == 0:\n",
    "                    target_element.append(element_of_file[num * 5])\n",
    "                    target_element.append(element_of_file[num * 5 + 1])\n",
    "                    target_element.append(element_of_file[num * 5 + 2])\n",
    "                    target_element.append(element_of_file[num * 5 + 3])\n",
    "                    target_element.append(element_of_file[num * 5 + 4])\n",
    "            target_file.close()\n",
    "            target_file = open(target_file_path, 'w')\n",
    "            for index in range(0,len(target_element)):\n",
    "                target_file.write(target_element[index])\n",
    "                if  (index - 4) % 5 == target_class and index != target_class:\n",
    "                    target_file.write('\\n')\n",
    "                else:\n",
    "                    target_file.write(' ')\n",
    "            target_file.close()\n",
    "            del target_element"
   ]
  },
  {
   "cell_type": "code",
   "execution_count": 3,
   "id": "85056fa8",
   "metadata": {},
   "outputs": [],
   "source": [
    "def check_data_integrity(labels_path,image_path):\n",
    "    labels_number = len(os.listdir(labels_path))\n",
    "    image_number = len(os.listdir(image_path))\n",
    "    \n",
    "    #check if there has some file only have image , but do not have label file and vice versa.\n",
    "    \n",
    "    if labels_number == image_number:\n",
    "        print('Number is correct!')\n",
    "        print('Data is ready')\n",
    "    else:\n",
    "        print(labels_number , image_number)\n",
    "        if labels_number > image_number:\n",
    "            find_lossing_file(labels_path,image_path,'txt','jpg')\n",
    "        else:\n",
    "            find_lossing_file(image_path,labels_path,'jpg','txt')\n",
    "        check_data_integrity(labels_path,image_path)\n"
   ]
  },
  {
   "cell_type": "code",
   "execution_count": null,
   "id": "e6563717",
   "metadata": {},
   "outputs": [],
   "source": [
    "def find_lossing_file(filemore,fileloss,filemore_type,fileloss_type):\n",
    "    lossing_file_list = []\n",
    "    loss_file_num = 0\n",
    "    for file_index in range(0,len(os.listdir(filemore))-1):\n",
    "        if (os.listdir(filemore)[file_index].split('.')[0] + '.' + fileloss_type) in os.listdir(fileloss):\n",
    "            continue\n",
    "        else:\n",
    "            loss_file_num = loss_file_num + 1\n",
    "            lossing_file_list.append(os.listdir(filemore)[file_index])\n",
    "    print(lossing_file_list)\n",
    "    print(loss_file_num,len(os.listdir(filemore))-1)\n",
    "    for num in range(0,len(lossing_file_list)):\n",
    "        os.remove(filemore + lossing_file_list[num])"
   ]
  },
  {
   "cell_type": "code",
   "execution_count": null,
   "id": "a6b7d8ac",
   "metadata": {
    "scrolled": true
   },
   "outputs": [],
   "source": [
    "for file_index in range(0,len(path_labels_val2017)-1):\n",
    "    content_check(labels_val2017,path_labels_val2017[file_index],images_val2017)\n",
    "for file_index in range(0,len(path_labels_train2017)-1):\n",
    "    content_check(labels_train2017,path_labels_train2017[file_index],images_train2017)"
   ]
  },
  {
   "cell_type": "code",
   "execution_count": null,
   "id": "cd808d34",
   "metadata": {},
   "outputs": [],
   "source": [
    "#print out how many file is in folder\n",
    "print(len(os.listdir(images_val2017)))\n",
    "print(len(os.listdir(images_train2017)))"
   ]
  },
  {
   "cell_type": "code",
   "execution_count": 4,
   "id": "c6636898",
   "metadata": {},
   "outputs": [
    {
     "name": "stdout",
     "output_type": "stream",
     "text": [
      "4952 5000\n",
      "117266 118287\n"
     ]
    }
   ],
   "source": [
    "check_data_integrity(labels_val2017,images_val2017)\n",
    "check_data_integrity(labels_train2017,images_train2017)"
   ]
  },
  {
   "cell_type": "code",
   "execution_count": null,
   "id": "8f93a288",
   "metadata": {},
   "outputs": [],
   "source": [
    "#write the remaining to the list file\n",
    "f = open('val2017.txt', 'w')\n",
    "for file_index in range(0,len(os.listdir(images_val2017))-1):    \n",
    "    f.write(images_val2017 + os.listdir(images_val2017)[file_index])\n",
    "    f.write('\\n')    \n",
    "f.close()"
   ]
  },
  {
   "cell_type": "code",
   "execution_count": null,
   "id": "d948eaf1",
   "metadata": {},
   "outputs": [],
   "source": [
    "#write the remaining to the list file\n",
    "f = open('train2017.txt', 'w')\n",
    "for file_index in range(0,len(os.listdir(images_train2017))-1):    \n",
    "    f.write(images_train2017 + os.listdir(images_train2017)[file_index])\n",
    "    f.write('\\n')    \n",
    "f.close()"
   ]
  }
 ],
 "metadata": {
  "kernelspec": {
   "display_name": "Python 3 (ipykernel)",
   "language": "python",
   "name": "python3"
  },
  "language_info": {
   "codemirror_mode": {
    "name": "ipython",
    "version": 3
   },
   "file_extension": ".py",
   "mimetype": "text/x-python",
   "name": "python",
   "nbconvert_exporter": "python",
   "pygments_lexer": "ipython3",
   "version": "3.7.11"
  }
 },
 "nbformat": 4,
 "nbformat_minor": 5
}
